{
 "cells": [
  {
   "cell_type": "markdown",
   "metadata": {},
   "source": [
    "District Summary \n",
    "Total number of unique schools\n",
    "Total students\n",
    "Total budget\n",
    "Average math score\n",
    "Average reading score\n",
    "% passing math (the percentage of students who passed math)\n",
    "% passing reading (the percentage of students who passed reading)\n",
    "% overall passing (the percentage of students who passed math AND reading)"
   ]
  },
  {
   "cell_type": "code",
   "execution_count": 2,
   "metadata": {},
   "outputs": [],
   "source": [
    "import pandas as pd\n",
    "import numpy as np\n",
    "\n"
   ]
  },
  {
   "cell_type": "code",
   "execution_count": 7,
   "metadata": {},
   "outputs": [
    {
     "data": {
      "text/html": [
       "<div>\n",
       "<style scoped>\n",
       "    .dataframe tbody tr th:only-of-type {\n",
       "        vertical-align: middle;\n",
       "    }\n",
       "\n",
       "    .dataframe tbody tr th {\n",
       "        vertical-align: top;\n",
       "    }\n",
       "\n",
       "    .dataframe thead th {\n",
       "        text-align: right;\n",
       "    }\n",
       "</style>\n",
       "<table border=\"1\" class=\"dataframe\">\n",
       "  <thead>\n",
       "    <tr style=\"text-align: right;\">\n",
       "      <th></th>\n",
       "      <th>Student ID</th>\n",
       "      <th>student_name</th>\n",
       "      <th>gender</th>\n",
       "      <th>grade</th>\n",
       "      <th>school_name</th>\n",
       "      <th>reading_score</th>\n",
       "      <th>math_score</th>\n",
       "      <th>School ID</th>\n",
       "      <th>type</th>\n",
       "      <th>size</th>\n",
       "      <th>budget</th>\n",
       "    </tr>\n",
       "  </thead>\n",
       "  <tbody>\n",
       "    <tr>\n",
       "      <th>0</th>\n",
       "      <td>0</td>\n",
       "      <td>Paul Bradley</td>\n",
       "      <td>M</td>\n",
       "      <td>9th</td>\n",
       "      <td>Huang High School</td>\n",
       "      <td>66</td>\n",
       "      <td>79</td>\n",
       "      <td>0</td>\n",
       "      <td>District</td>\n",
       "      <td>2917</td>\n",
       "      <td>1910635</td>\n",
       "    </tr>\n",
       "    <tr>\n",
       "      <th>1</th>\n",
       "      <td>1</td>\n",
       "      <td>Victor Smith</td>\n",
       "      <td>M</td>\n",
       "      <td>12th</td>\n",
       "      <td>Huang High School</td>\n",
       "      <td>94</td>\n",
       "      <td>61</td>\n",
       "      <td>0</td>\n",
       "      <td>District</td>\n",
       "      <td>2917</td>\n",
       "      <td>1910635</td>\n",
       "    </tr>\n",
       "    <tr>\n",
       "      <th>2</th>\n",
       "      <td>2</td>\n",
       "      <td>Kevin Rodriguez</td>\n",
       "      <td>M</td>\n",
       "      <td>12th</td>\n",
       "      <td>Huang High School</td>\n",
       "      <td>90</td>\n",
       "      <td>60</td>\n",
       "      <td>0</td>\n",
       "      <td>District</td>\n",
       "      <td>2917</td>\n",
       "      <td>1910635</td>\n",
       "    </tr>\n",
       "    <tr>\n",
       "      <th>3</th>\n",
       "      <td>3</td>\n",
       "      <td>Dr. Richard Scott</td>\n",
       "      <td>M</td>\n",
       "      <td>12th</td>\n",
       "      <td>Huang High School</td>\n",
       "      <td>67</td>\n",
       "      <td>58</td>\n",
       "      <td>0</td>\n",
       "      <td>District</td>\n",
       "      <td>2917</td>\n",
       "      <td>1910635</td>\n",
       "    </tr>\n",
       "    <tr>\n",
       "      <th>4</th>\n",
       "      <td>4</td>\n",
       "      <td>Bonnie Ray</td>\n",
       "      <td>F</td>\n",
       "      <td>9th</td>\n",
       "      <td>Huang High School</td>\n",
       "      <td>97</td>\n",
       "      <td>84</td>\n",
       "      <td>0</td>\n",
       "      <td>District</td>\n",
       "      <td>2917</td>\n",
       "      <td>1910635</td>\n",
       "    </tr>\n",
       "  </tbody>\n",
       "</table>\n",
       "</div>"
      ],
      "text/plain": [
       "   Student ID       student_name gender grade        school_name  \\\n",
       "0           0       Paul Bradley      M   9th  Huang High School   \n",
       "1           1       Victor Smith      M  12th  Huang High School   \n",
       "2           2    Kevin Rodriguez      M  12th  Huang High School   \n",
       "3           3  Dr. Richard Scott      M  12th  Huang High School   \n",
       "4           4         Bonnie Ray      F   9th  Huang High School   \n",
       "\n",
       "   reading_score  math_score  School ID      type  size   budget  \n",
       "0             66          79          0  District  2917  1910635  \n",
       "1             94          61          0  District  2917  1910635  \n",
       "2             90          60          0  District  2917  1910635  \n",
       "3             67          58          0  District  2917  1910635  \n",
       "4             97          84          0  District  2917  1910635  "
      ]
     },
     "execution_count": 7,
     "metadata": {},
     "output_type": "execute_result"
    }
   ],
   "source": [
    "student_data = pd.read_csv(\"G:\\CODE\\Data Analytics Bootcamp\\Data_Analytics\\Class_Folder\\M4_Data_Analysis_with_Python\\challenge\\pandas-challenge\\PyCitySchools\\Resources\\students_complete.csv\")\n",
    "school_data = pd.read_csv(\"G:\\CODE\\Data Analytics Bootcamp\\Data_Analytics\\Class_Folder\\M4_Data_Analysis_with_Python\\challenge\\pandas-challenge\\PyCitySchools\\Resources\\schools_complete.csv\")\n",
    "\n",
    "school_data_full = pd.merge(student_data, school_data, how=\"left\", on=[\"school_name\", \"school_name\"])\n",
    "\n",
    "school_data_full.head()\n"
   ]
  },
  {
   "cell_type": "code",
   "execution_count": 19,
   "metadata": {},
   "outputs": [
    {
     "name": "stdout",
     "output_type": "stream",
     "text": [
      "Student ID       39170\n",
      "student_name     32715\n",
      "gender               2\n",
      "grade                4\n",
      "school_name         15\n",
      "reading_score       37\n",
      "math_score          45\n",
      "School ID           15\n",
      "type                 2\n",
      "size                15\n",
      "budget              15\n",
      "dtype: int64\n",
      "78.98537145774827\n",
      "78.031484028733\n"
     ]
    }
   ],
   "source": [
    "uniques = school_data_full.nunique()\n",
    "print(uniques)\n",
    "\n",
    "schoolCount = uniques[\"school_name\"]\n",
    "studentCount = uniques[\"student_name\"]\n",
    "totalBudget = school_data[\"budget\"].sum()\n",
    "avgMathScore = school_data_full[\"math_score\"].mean()\n",
    "avgReadingScore = school_data_full[\"reading_score\"].mean()\n",
    "mathPassRate  = len(student_data[student_data[\"math_score\"] >=70])/studentCount * 100 # (the percentage of students who passed math)\n",
    "readPassRate  = len(student_data[student_data[\"reading_score\"] >=70])/studentCount * 100 # (the percentage of students who passed math) # (the percentage of students who passed reading)\n",
    "totPassRate  = len(student_data[(student_data[\"math_score\"] >=70) & (student_data[\"reading_score\"] >=70)])/studentCount * 100 # (the percentage of students who passed math) # (the percentage of students who passed math AND reading)\n",
    "print(totPassRate)\n",
    "\n",
    "\n"
   ]
  },
  {
   "cell_type": "code",
   "execution_count": 21,
   "metadata": {},
   "outputs": [
    {
     "name": "stdout",
     "output_type": "stream",
     "text": [
      "   schoolCount  studentCount  totalBudget  avgMathScore  avgReadingScore  \\\n",
      "0           15         32715     24649428     78.985371         81.87784   \n",
      "\n",
      "   mathPassRate  readPassRate  totPassRate  \n",
      "0     89.775332    102.735748    78.031484  \n"
     ]
    }
   ],
   "source": [
    "districtSummaryDf = pd.DataFrame({\n",
    "\"schoolCount\": [schoolCount],\n",
    "\"studentCount\": [studentCount],\n",
    "\"totalBudget\": [totalBudget],\n",
    "\"avgMathScore\": [avgMathScore],\n",
    "\"avgReadingScore\": [avgReadingScore],\n",
    "\"mathPassRate\": [mathPassRate],\n",
    "\"readPassRate\": [readPassRate],\n",
    "\"totPassRate\": [totPassRate]\n",
    "})\n",
    "print(districtSummaryDf)"
   ]
  },
  {
   "attachments": {},
   "cell_type": "markdown",
   "metadata": {},
   "source": [
    "School Summary\n",
    "Perform the necessary calculations and then create a DataFrame that summarizes key metrics about each school.\n",
    "\n",
    "Include the following:\n",
    "\n",
    "School name\n",
    "\n",
    "School type\n",
    "\n",
    "Total students\n",
    "\n",
    "Total school budget\n",
    "\n",
    "Per student budget\n",
    "\n",
    "Average math score\n",
    "\n",
    "Average reading score\n",
    "\n",
    "% passing math (the percentage of students who passed math)\n",
    "\n",
    "% passing reading (the percentage of students who passed reading)\n",
    "\n",
    "% overall passing (the percentage of students who passed math AND reading)\n",
    "\n"
   ]
  }
 ],
 "metadata": {
  "kernelspec": {
   "display_name": "PythonData",
   "language": "python",
   "name": "python3"
  },
  "language_info": {
   "codemirror_mode": {
    "name": "ipython",
    "version": 3
   },
   "file_extension": ".py",
   "mimetype": "text/x-python",
   "name": "python",
   "nbconvert_exporter": "python",
   "pygments_lexer": "ipython3",
   "version": "3.7.7"
  },
  "orig_nbformat": 4,
  "vscode": {
   "interpreter": {
    "hash": "4904c410c1507775547b44abbbc3629ef487f941be4e53d4b3f1c576a9d2c5a0"
   }
  }
 },
 "nbformat": 4,
 "nbformat_minor": 2
}
